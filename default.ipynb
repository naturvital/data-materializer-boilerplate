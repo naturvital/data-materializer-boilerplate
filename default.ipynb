{
 "cells": [
  {
   "cell_type": "code",
   "execution_count": null,
   "id": "e8addc99-5144-49f8-8203-910b3573c3b2",
   "metadata": {},
   "outputs": [],
   "source": [
    "print('Hello Vertex')"
   ]
  }
 ],
 "metadata": {
  "kernelspec": {
   "display_name": "Python (anyball)",
   "language": "python",
   "name": "anyball"
  },
  "language_info": {
   "codemirror_mode": {
    "name": "ipython",
    "version": 3
   },
   "file_extension": ".py",
   "mimetype": "text/x-python",
   "name": "python",
   "nbconvert_exporter": "python",
   "pygments_lexer": "ipython3",
   "version": "3.9.21"
  }
 },
 "nbformat": 4,
 "nbformat_minor": 5
}
